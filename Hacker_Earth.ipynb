{
 "cells": [
  {
   "cell_type": "code",
   "execution_count": 1,
   "metadata": {},
   "outputs": [],
   "source": [
    "import pandas as pd\n",
    "import numpy as np \n",
    "import seaborn as sns\n",
    "import matplotlib.pyplot as plt"
   ]
  },
  {
   "cell_type": "markdown",
   "metadata": {},
   "source": [
    "## Reading the dataset"
   ]
  },
  {
   "cell_type": "code",
   "execution_count": 2,
   "metadata": {},
   "outputs": [],
   "source": [
    "data=pd.read_csv('./Project Datasets/Hacker_earth dataset/train.csv')"
   ]
  },
  {
   "cell_type": "code",
   "execution_count": 3,
   "metadata": {},
   "outputs": [
    {
     "data": {
      "text/html": [
       "<div>\n",
       "<style scoped>\n",
       "    .dataframe tbody tr th:only-of-type {\n",
       "        vertical-align: middle;\n",
       "    }\n",
       "\n",
       "    .dataframe tbody tr th {\n",
       "        vertical-align: top;\n",
       "    }\n",
       "\n",
       "    .dataframe thead th {\n",
       "        text-align: right;\n",
       "    }\n",
       "</style>\n",
       "<table border=\"1\" class=\"dataframe\">\n",
       "  <thead>\n",
       "    <tr style=\"text-align: right;\">\n",
       "      <th></th>\n",
       "      <th>Product_id</th>\n",
       "      <th>Stall_no</th>\n",
       "      <th>instock_date</th>\n",
       "      <th>Market_Category</th>\n",
       "      <th>Customer_name</th>\n",
       "      <th>Loyalty_customer</th>\n",
       "      <th>Product_Category</th>\n",
       "      <th>Grade</th>\n",
       "      <th>Demand</th>\n",
       "      <th>Discount_avail</th>\n",
       "      <th>charges_1</th>\n",
       "      <th>charges_2 (%)</th>\n",
       "      <th>Minimum_price</th>\n",
       "      <th>Maximum_price</th>\n",
       "      <th>Selling_Price</th>\n",
       "    </tr>\n",
       "  </thead>\n",
       "  <tbody>\n",
       "    <tr>\n",
       "      <th>0</th>\n",
       "      <td>BRAE2NF6JA5GUEXG</td>\n",
       "      <td>37.0</td>\n",
       "      <td>2015-08-22 18:36:12.000</td>\n",
       "      <td>2</td>\n",
       "      <td>Lillyann</td>\n",
       "      <td>Yes</td>\n",
       "      <td>Fashion</td>\n",
       "      <td>1</td>\n",
       "      <td>68</td>\n",
       "      <td>0.0</td>\n",
       "      <td>376.0</td>\n",
       "      <td>11.0</td>\n",
       "      <td>2983.0</td>\n",
       "      <td>4713.0</td>\n",
       "      <td>4185.947700</td>\n",
       "    </tr>\n",
       "    <tr>\n",
       "      <th>1</th>\n",
       "      <td>TUNE8SFB6RJN2HSD</td>\n",
       "      <td>38.0</td>\n",
       "      <td>2016-03-27 21:19:13.000</td>\n",
       "      <td>24</td>\n",
       "      <td>Klynn</td>\n",
       "      <td>Yes</td>\n",
       "      <td>Fashion</td>\n",
       "      <td>0</td>\n",
       "      <td>51</td>\n",
       "      <td>0.0</td>\n",
       "      <td>397.0</td>\n",
       "      <td>12.0</td>\n",
       "      <td>7495.0</td>\n",
       "      <td>10352.0</td>\n",
       "      <td>9271.490256</td>\n",
       "    </tr>\n",
       "    <tr>\n",
       "      <th>2</th>\n",
       "      <td>BRAEAR7WZPQGPBZU</td>\n",
       "      <td>9.0</td>\n",
       "      <td>2015-08-18 19:25:22.000</td>\n",
       "      <td>447</td>\n",
       "      <td>Ridge</td>\n",
       "      <td>Yes</td>\n",
       "      <td>Child_care</td>\n",
       "      <td>0</td>\n",
       "      <td>10</td>\n",
       "      <td>0.0</td>\n",
       "      <td>250.0</td>\n",
       "      <td>9.0</td>\n",
       "      <td>5752.0</td>\n",
       "      <td>7309.0</td>\n",
       "      <td>6785.701362</td>\n",
       "    </tr>\n",
       "    <tr>\n",
       "      <th>3</th>\n",
       "      <td>WATDZ2ZQ8JPDHCTJ</td>\n",
       "      <td>50.0</td>\n",
       "      <td>2016-03-28 21:53:01.000</td>\n",
       "      <td>23</td>\n",
       "      <td>Abran</td>\n",
       "      <td>Yes</td>\n",
       "      <td>Educational</td>\n",
       "      <td>2</td>\n",
       "      <td>48</td>\n",
       "      <td>0.0</td>\n",
       "      <td>144.0</td>\n",
       "      <td>13.0</td>\n",
       "      <td>5090.0</td>\n",
       "      <td>20814.0</td>\n",
       "      <td>13028.917824</td>\n",
       "    </tr>\n",
       "    <tr>\n",
       "      <th>4</th>\n",
       "      <td>JWSEBUKYQPMBZ3RK</td>\n",
       "      <td>7.0</td>\n",
       "      <td>2016-03-29 22:58:53.000</td>\n",
       "      <td>63</td>\n",
       "      <td>Dustyn</td>\n",
       "      <td>Yes</td>\n",
       "      <td>Repair</td>\n",
       "      <td>1</td>\n",
       "      <td>35</td>\n",
       "      <td>1.0</td>\n",
       "      <td>211.0</td>\n",
       "      <td>4.0</td>\n",
       "      <td>2430.0</td>\n",
       "      <td>9261.0</td>\n",
       "      <td>906.553935</td>\n",
       "    </tr>\n",
       "  </tbody>\n",
       "</table>\n",
       "</div>"
      ],
      "text/plain": [
       "         Product_id  Stall_no             instock_date  Market_Category  \\\n",
       "0  BRAE2NF6JA5GUEXG      37.0  2015-08-22 18:36:12.000                2   \n",
       "1  TUNE8SFB6RJN2HSD      38.0  2016-03-27 21:19:13.000               24   \n",
       "2  BRAEAR7WZPQGPBZU       9.0  2015-08-18 19:25:22.000              447   \n",
       "3  WATDZ2ZQ8JPDHCTJ      50.0  2016-03-28 21:53:01.000               23   \n",
       "4  JWSEBUKYQPMBZ3RK       7.0  2016-03-29 22:58:53.000               63   \n",
       "\n",
       "  Customer_name Loyalty_customer Product_Category  Grade  Demand  \\\n",
       "0      Lillyann              Yes          Fashion      1      68   \n",
       "1         Klynn              Yes          Fashion      0      51   \n",
       "2         Ridge              Yes       Child_care      0      10   \n",
       "3         Abran              Yes      Educational      2      48   \n",
       "4        Dustyn              Yes           Repair      1      35   \n",
       "\n",
       "   Discount_avail  charges_1  charges_2 (%)  Minimum_price  Maximum_price  \\\n",
       "0             0.0      376.0           11.0         2983.0         4713.0   \n",
       "1             0.0      397.0           12.0         7495.0        10352.0   \n",
       "2             0.0      250.0            9.0         5752.0         7309.0   \n",
       "3             0.0      144.0           13.0         5090.0        20814.0   \n",
       "4             1.0      211.0            4.0         2430.0         9261.0   \n",
       "\n",
       "   Selling_Price  \n",
       "0    4185.947700  \n",
       "1    9271.490256  \n",
       "2    6785.701362  \n",
       "3   13028.917824  \n",
       "4     906.553935  "
      ]
     },
     "execution_count": 3,
     "metadata": {},
     "output_type": "execute_result"
    }
   ],
   "source": [
    "data.head()"
   ]
  },
  {
   "cell_type": "markdown",
   "metadata": {},
   "source": [
    "## Checking for ambiguous data entries"
   ]
  },
  {
   "cell_type": "code",
   "execution_count": 4,
   "metadata": {},
   "outputs": [
    {
     "data": {
      "text/plain": [
       "14"
      ]
     },
     "execution_count": 4,
     "metadata": {},
     "output_type": "execute_result"
    }
   ],
   "source": [
    "len(data[data['Selling_Price']<0])"
   ]
  },
  {
   "cell_type": "markdown",
   "metadata": {},
   "source": [
    "## Removing ambiguous entries"
   ]
  },
  {
   "cell_type": "code",
   "execution_count": 5,
   "metadata": {},
   "outputs": [],
   "source": [
    "data=data[data['Selling_Price']>=0]"
   ]
  },
  {
   "cell_type": "markdown",
   "metadata": {},
   "source": [
    "## Checking for null values"
   ]
  },
  {
   "cell_type": "code",
   "execution_count": 6,
   "metadata": {},
   "outputs": [
    {
     "data": {
      "text/plain": [
       "Product_id            0\n",
       "Stall_no              5\n",
       "instock_date          0\n",
       "Market_Category       0\n",
       "Customer_name       206\n",
       "Loyalty_customer      0\n",
       "Product_Category      0\n",
       "Grade                 0\n",
       "Demand                0\n",
       "Discount_avail       37\n",
       "charges_1           197\n",
       "charges_2 (%)       204\n",
       "Minimum_price        38\n",
       "Maximum_price       340\n",
       "Selling_Price         0\n",
       "dtype: int64"
      ]
     },
     "execution_count": 6,
     "metadata": {},
     "output_type": "execute_result"
    }
   ],
   "source": [
    "data.isnull().sum()"
   ]
  },
  {
   "cell_type": "markdown",
   "metadata": {},
   "source": [
    "## Replacing the nan with mean values "
   ]
  },
  {
   "cell_type": "code",
   "execution_count": 7,
   "metadata": {},
   "outputs": [],
   "source": [
    "#data.dropna(inplace=True)\n",
    "data['Discount_avail'].fillna(data['Discount_avail'].mean(),inplace=True)\n",
    "data['Minimum_price'].fillna(data['Minimum_price'].mean(),inplace=True)\n",
    "data['Maximum_price'].fillna(data['Maximum_price'].mean(),inplace=True)\n"
   ]
  },
  {
   "cell_type": "markdown",
   "metadata": {},
   "source": [
    "## Creating columns year, month and day "
   ]
  },
  {
   "cell_type": "code",
   "execution_count": 8,
   "metadata": {},
   "outputs": [],
   "source": [
    "year=[]\n",
    "month=[]\n",
    "day=[]\n",
    "for i in range(len(data)):\n",
    "    year.append(int(data['instock_date'].iloc[i][:4]))\n",
    "    month.append(int(data['instock_date'].iloc[i][5:7]))\n",
    "    day.append(int(data['instock_date'].iloc[i][8:10]))\n",
    "\n",
    "data['year']=year\n",
    "data['month']=month\n",
    "data['day']=day"
   ]
  },
  {
   "cell_type": "code",
   "execution_count": 9,
   "metadata": {},
   "outputs": [],
   "source": [
    "data.drop(['Product_id','Customer_name','instock_date'],axis=1,inplace=True)"
   ]
  },
  {
   "cell_type": "markdown",
   "metadata": {},
   "source": [
    "## Converting categorical data into numercial data"
   ]
  },
  {
   "cell_type": "code",
   "execution_count": 10,
   "metadata": {},
   "outputs": [],
   "source": [
    "data['Product_Category']=pd.Categorical(data['Product_Category'])\n",
    "d1 = dict(enumerate(data['Product_Category'].cat.categories))\n",
    "data['Product_Category']=data.Product_Category.cat.codes\n",
    "\n",
    "data['Loyalty_customer']=pd.Categorical(data['Loyalty_customer'])\n",
    "d2 = dict(enumerate(data['Loyalty_customer'].cat.categories))\n",
    "data['Loyalty_customer']=data.Loyalty_customer.cat.codes"
   ]
  },
  {
   "cell_type": "markdown",
   "metadata": {},
   "source": [
    "## Correlation matrix"
   ]
  },
  {
   "cell_type": "code",
   "execution_count": 11,
   "metadata": {},
   "outputs": [],
   "source": [
    "data_corr=data.corr()"
   ]
  },
  {
   "cell_type": "code",
   "execution_count": 12,
   "metadata": {},
   "outputs": [],
   "source": [
    "np.ones_like(data_corr, dtype=np.bool)\n",
    "mask = np.triu(np.ones_like(data_corr, dtype=np.bool))\n"
   ]
  },
  {
   "cell_type": "code",
   "execution_count": 13,
   "metadata": {},
   "outputs": [
    {
     "data": {
      "image/png": "[encoded data removed]",
      "text/plain": [
       "<Figure size 720x576 with 2 Axes>"
      ]
     },
     "metadata": {
      "needs_background": "light"
     },
     "output_type": "display_data"
    }
   ],
   "source": [
    "fig, ax = plt.subplots(figsize=(10, 8))\n",
    "# mask\n",
    "mask = np.triu(np.ones_like(data_corr, dtype=np.bool))\n",
    "# adjust mask and df\n",
    "mask = mask[1:, :-1]\n",
    "corr = data_corr.iloc[1:,:-1].copy()\n",
    "# plot heatmap\n",
    "sns.heatmap(corr, mask=mask, annot=True, fmt=\".2f\", cmap='Blues',\n",
    "           vmin=-1, vmax=1, cbar_kws={\"shrink\": .8})\n",
    "# yticks\n",
    "plt.yticks(rotation=0)\n",
    "plt.show()"
   ]
  },
  {
   "cell_type": "code",
   "execution_count": 14,
   "metadata": {},
   "outputs": [],
   "source": [
    "test_data=pd.read_csv('./Project Datasets/Hacker_earth dataset/test.csv')\n",
    "test_data.isnull().sum()\n",
    "test_data['Minimum_price'].fillna(test_data['Minimum_price'].mean(),inplace=True)\n",
    "to_replace = {\n",
    "    'Product_Category':{'Child_care':0,'Cosmetics':1,'Educational':2,'Fashion':3,'Home_decor':4,'Hospitality':5,'Organic':6,'Pet_care':7,'Repair':8,'Technology':9},\n",
    "    'Loyalty_customer':{'No ':0,'Yes':1}\n",
    "}\n",
    "test_data.replace(to_replace,inplace=True)\n",
    "year=[]\n",
    "month=[]\n",
    "day=[]\n",
    "for i in range(len(test_data)):\n",
    "    year.append(int(test_data['instock_date'].iloc[i][:4]))\n",
    "    month.append(int(test_data['instock_date'].iloc[i][5:7]))\n",
    "    day.append(int(test_data['instock_date'].iloc[i][8:10]))\n",
    "\n",
    "test_data['year']=year\n",
    "test_data['month']=month\n",
    "test_data['day']=day\n",
    "prod_id=test_data['Product_id']"
   ]
  },
  {
   "cell_type": "markdown",
   "metadata": {},
   "source": [
    "# Multiple Linear regression"
   ]
  },
  {
   "cell_type": "code",
   "execution_count": 15,
   "metadata": {},
   "outputs": [],
   "source": [
    "from sklearn import linear_model"
   ]
  },
  {
   "cell_type": "code",
   "execution_count": 16,
   "metadata": {},
   "outputs": [
    {
     "data": {
      "text/plain": [
       "0.9063826939489834"
      ]
     },
     "execution_count": 16,
     "metadata": {},
     "output_type": "execute_result"
    }
   ],
   "source": [
    "y=data['Selling_Price']\n",
    "X=data[['Market_Category','Discount_avail','Minimum_price','Maximum_price']]\n",
    "regr = linear_model.LinearRegression()\n",
    "regr.fit(X, y)\n",
    "regr.score(X,y)"
   ]
  },
  {
   "cell_type": "code",
   "execution_count": 17,
   "metadata": {},
   "outputs": [
    {
     "data": {
      "text/plain": [
       "array([ 5.10905419e-02, -4.44288684e+03,  4.85080990e-01,  4.13534703e-01])"
      ]
     },
     "execution_count": 17,
     "metadata": {},
     "output_type": "execute_result"
    }
   ],
   "source": [
    "regr.coef_"
   ]
  },
  {
   "cell_type": "code",
   "execution_count": 18,
   "metadata": {},
   "outputs": [],
   "source": [
    "prediction=regr.predict(test_data[['Market_Category','Discount_avail','Minimum_price','Maximum_price']])"
   ]
  },
  {
   "cell_type": "code",
   "execution_count": 19,
   "metadata": {},
   "outputs": [],
   "source": [
    "prediction=abs(prediction)"
   ]
  },
  {
   "cell_type": "code",
   "execution_count": 330,
   "metadata": {},
   "outputs": [],
   "source": [
    "data_submission=pd.DataFrame({\n",
    "    'Product_id': prod_id,\n",
    "    'Selling_Price': prediction\n",
    "})"
   ]
  },
  {
   "cell_type": "markdown",
   "metadata": {},
   "source": [
    "# Random Forest Regression"
   ]
  },
  {
   "cell_type": "code",
   "execution_count": 20,
   "metadata": {},
   "outputs": [],
   "source": [
    "from sklearn.ensemble import RandomForestRegressor\n",
    "from sklearn.model_selection import train_test_split"
   ]
  },
  {
   "cell_type": "code",
   "execution_count": 30,
   "metadata": {},
   "outputs": [],
   "source": [
    "cols=['Discount_avail', 'Minimum_price','Maximum_price','Market_Category', 'Product_Category', 'Grade',\n",
    "       'Demand','day','month']\n",
    "y=data['Selling_Price']\n",
    "x=data[cols]\n"
   ]
  },
  {
   "cell_type": "code",
   "execution_count": 31,
   "metadata": {},
   "outputs": [],
   "source": [
    "X_train, X_test, y_train, y_test = train_test_split(x, y, test_size=0.1, random_state=42)"
   ]
  },
  {
   "cell_type": "code",
   "execution_count": 32,
   "metadata": {},
   "outputs": [
    {
     "name": "stderr",
     "output_type": "stream",
     "text": [
      "[Parallel(n_jobs=1)]: Using backend SequentialBackend with 1 concurrent workers.\n",
      "[Parallel(n_jobs=1)]: Done   1 out of   1 | elapsed:    0.0s remaining:    0.0s\n"
     ]
    },
    {
     "name": "stdout",
     "output_type": "stream",
     "text": [
      "building tree 1 of 150\n",
      "building tree 2 of 150\n",
      "building tree 3 of 150\n",
      "building tree 4 of 150\n",
      "building tree 5 of 150\n",
      "building tree 6 of 150\n",
      "building tree 7 of 150\n",
      "building tree 8 of 150\n",
      "building tree 9 of 150\n",
      "building tree 10 of 150\n",
      "building tree 11 of 150\n",
      "building tree 12 of 150\n",
      "building tree 13 of 150\n",
      "building tree 14 of 150\n",
      "building tree 15 of 150\n",
      "building tree 16 of 150\n",
      "building tree 17 of 150\n",
      "building tree 18 of 150\n",
      "building tree 19 of 150\n",
      "building tree 20 of 150\n",
      "building tree 21 of 150\n",
      "building tree 22 of 150\n",
      "building tree 23 of 150\n",
      "building tree 24 of 150\n",
      "building tree 25 of 150\n",
      "building tree 26 of 150\n",
      "building tree 27 of 150\n",
      "building tree 28 of 150\n",
      "building tree 29 of 150\n",
      "building tree 30 of 150\n",
      "building tree 31 of 150\n",
      "building tree 32 of 150\n",
      "building tree 33 of 150\n",
      "building tree 34 of 150\n",
      "building tree 35 of 150\n",
      "building tree 36 of 150\n",
      "building tree 37 of 150\n",
      "building tree 38 of 150\n",
      "building tree 39 of 150\n",
      "building tree 40 of 150\n",
      "building tree 41 of 150\n",
      "building tree 42 of 150\n",
      "building tree 43 of 150\n",
      "building tree 44 of 150\n",
      "building tree 45 of 150\n",
      "building tree 46 of 150\n",
      "building tree 47 of 150\n",
      "building tree 48 of 150\n",
      "building tree 49 of 150\n",
      "building tree 50 of 150\n",
      "building tree 51 of 150\n",
      "building tree 52 of 150\n",
      "building tree 53 of 150\n",
      "building tree 54 of 150\n",
      "building tree 55 of 150\n",
      "building tree 56 of 150\n",
      "building tree 57 of 150\n",
      "building tree 58 of 150\n",
      "building tree 59 of 150\n",
      "building tree 60 of 150\n",
      "building tree 61 of 150\n",
      "building tree 62 of 150\n",
      "building tree 63 of 150\n",
      "building tree 64 of 150\n",
      "building tree 65 of 150\n",
      "building tree 66 of 150\n",
      "building tree 67 of 150\n",
      "building tree 68 of 150\n",
      "building tree 69 of 150\n",
      "building tree 70 of 150\n",
      "building tree 71 of 150\n",
      "building tree 72 of 150\n",
      "building tree 73 of 150\n",
      "building tree 74 of 150\n",
      "building tree 75 of 150\n",
      "building tree 76 of 150\n",
      "building tree 77 of 150\n",
      "building tree 78 of 150\n",
      "building tree 79 of 150\n",
      "building tree 80 of 150\n",
      "building tree 81 of 150\n",
      "building tree 82 of 150\n",
      "building tree 83 of 150\n",
      "building tree 84 of 150\n",
      "building tree 85 of 150\n",
      "building tree 86 of 150\n",
      "building tree 87 of 150\n",
      "building tree 88 of 150\n",
      "building tree 89 of 150\n",
      "building tree 90 of 150\n",
      "building tree 91 of 150\n",
      "building tree 92 of 150\n",
      "building tree 93 of 150\n",
      "building tree 94 of 150\n",
      "building tree 95 of 150\n",
      "building tree 96 of 150\n",
      "building tree 97 of 150\n",
      "building tree 98 of 150\n",
      "building tree 99 of 150\n",
      "building tree 100 of 150\n",
      "building tree 101 of 150\n",
      "building tree 102 of 150\n",
      "building tree 103 of 150\n",
      "building tree 104 of 150\n",
      "building tree 105 of 150\n",
      "building tree 106 of 150\n",
      "building tree 107 of 150\n",
      "building tree 108 of 150\n",
      "building tree 109 of 150\n",
      "building tree 110 of 150\n",
      "building tree 111 of 150\n",
      "building tree 112 of 150\n",
      "building tree 113 of 150\n",
      "building tree 114 of 150\n",
      "building tree 115 of 150\n",
      "building tree 116 of 150\n",
      "building tree 117 of 150\n",
      "building tree 118 of 150\n",
      "building tree 119 of 150\n",
      "building tree 120 of 150\n",
      "building tree 121 of 150\n",
      "building tree 122 of 150\n",
      "building tree 123 of 150\n",
      "building tree 124 of 150\n",
      "building tree 125 of 150\n",
      "building tree 126 of 150\n",
      "building tree 127 of 150\n",
      "building tree 128 of 150\n",
      "building tree 129 of 150\n",
      "building tree 130 of 150\n",
      "building tree 131 of 150\n",
      "building tree 132 of 150\n",
      "building tree 133 of 150\n",
      "building tree 134 of 150\n",
      "building tree 135 of 150\n",
      "building tree 136 of 150\n",
      "building tree 137 of 150\n",
      "building tree 138 of 150\n",
      "building tree 139 of 150\n",
      "building tree 140 of 150\n",
      "building tree 141 of 150\n",
      "building tree 142 of 150\n",
      "building tree 143 of 150\n",
      "building tree 144 of 150\n",
      "building tree 145 of 150\n",
      "building tree 146 of 150\n",
      "building tree 147 of 150\n",
      "building tree 148 of 150\n",
      "building tree 149 of 150\n",
      "building tree 150 of 150\n"
     ]
    },
    {
     "name": "stderr",
     "output_type": "stream",
     "text": [
      "[Parallel(n_jobs=1)]: Done 150 out of 150 | elapsed:    2.5s finished\n"
     ]
    },
    {
     "data": {
      "text/plain": [
       "RandomForestRegressor(n_estimators=150, oob_score=True, verbose=2)"
      ]
     },
     "execution_count": 32,
     "metadata": {},
     "output_type": "execute_result"
    }
   ],
   "source": [
    "forest = RandomForestRegressor(n_estimators=150, max_features=\"auto\",verbose=2,oob_score=True)\n",
    "forest.fit(X_train, y_train)"
   ]
  },
  {
   "cell_type": "code",
   "execution_count": 33,
   "metadata": {
    "scrolled": true
   },
   "outputs": [
    {
     "name": "stderr",
     "output_type": "stream",
     "text": [
      "[Parallel(n_jobs=1)]: Using backend SequentialBackend with 1 concurrent workers.\n",
      "[Parallel(n_jobs=1)]: Done   1 out of   1 | elapsed:    0.0s remaining:    0.0s\n",
      "[Parallel(n_jobs=1)]: Done 150 out of 150 | elapsed:    0.0s finished\n",
      "[Parallel(n_jobs=1)]: Using backend SequentialBackend with 1 concurrent workers.\n",
      "[Parallel(n_jobs=1)]: Done   1 out of   1 | elapsed:    0.0s remaining:    0.0s\n"
     ]
    },
    {
     "name": "stdout",
     "output_type": "stream",
     "text": [
      "0.9984652417573401 0.9927733923319181 0.9881025288566435\n"
     ]
    },
    {
     "name": "stderr",
     "output_type": "stream",
     "text": [
      "[Parallel(n_jobs=1)]: Done 150 out of 150 | elapsed:    0.0s finished\n",
      "[Parallel(n_jobs=1)]: Using backend SequentialBackend with 1 concurrent workers.\n",
      "[Parallel(n_jobs=1)]: Done   1 out of   1 | elapsed:    0.0s remaining:    0.0s\n",
      "[Parallel(n_jobs=1)]: Done 150 out of 150 | elapsed:    0.0s finished\n"
     ]
    }
   ],
   "source": [
    "preds = forest.predict(X_test)\n",
    "print(forest.score(X_train, y_train), forest.score(X_test, y_test), forest.oob_score_)"
   ]
  },
  {
   "cell_type": "markdown",
   "metadata": {},
   "source": [
    "## Feature Importance"
   ]
  },
  {
   "cell_type": "code",
   "execution_count": 34,
   "metadata": {},
   "outputs": [
    {
     "name": "stdout",
     "output_type": "stream",
     "text": [
      "Feature ranking:\n",
      "1. feature Maximum_price (0.560823)\n",
      "2. feature Discount_avail (0.291884)\n",
      "3. feature Minimum_price (0.139818)\n",
      "4. feature Grade (0.002227)\n",
      "5. feature Demand (0.001340)\n",
      "6. feature Product_Category (0.001296)\n",
      "7. feature day (0.001031)\n",
      "8. feature Market_Category (0.001005)\n",
      "9. feature month (0.000575)\n"
     ]
    },
    {
     "data": {
      "image/png": "[encoded data removed]",
      "text/plain": [
       "<Figure size 432x288 with 1 Axes>"
      ]
     },
     "metadata": {
      "needs_background": "light"
     },
     "output_type": "display_data"
    }
   ],
   "source": [
    "importances = forest.feature_importances_\n",
    "std = np.std([tree.feature_importances_ for tree in forest.estimators_],\n",
    "             axis=0)\n",
    "indices = np.argsort(importances)[::-1]\n",
    "\n",
    "# Print the feature ranking\n",
    "print(\"Feature ranking:\")\n",
    "\n",
    "for f in range(x.shape[1]):\n",
    "    print(\"%d. feature %s (%f)\" % (f + 1, x.columns[indices[f]], importances[indices[f]]))\n",
    "\n",
    "# Plot the impurity-based feature importances of the forest\n",
    "plt.figure()\n",
    "plt.title(\"Feature importances\")\n",
    "plt.bar(range(x.shape[1]), importances[indices],\n",
    "        color=\"r\", yerr=std[indices], align=\"center\")\n",
    "plt.xticks(range(x.shape[1]), indices)\n",
    "plt.xlim([-1, x.shape[1]])\n",
    "plt.show()"
   ]
  },
  {
   "cell_type": "code",
   "execution_count": 45,
   "metadata": {},
   "outputs": [],
   "source": [
    "prediction_test=forest.predict(test_data[cols])"
   ]
  },
  {
   "cell_type": "code",
   "execution_count": 46,
   "metadata": {},
   "outputs": [],
   "source": [
    "data_submission=pd.DataFrame({\n",
    "    'Product_id': prod_id,\n",
    "    'Selling_Price': prediction_test\n",
    "})"
   ]
  },
  {
   "cell_type": "code",
   "execution_count": 47,
   "metadata": {},
   "outputs": [],
   "source": [
    "data_submission.to_csv('Submission.csv',index=False)"
   ]
  },
  {
   "cell_type": "code",
   "execution_count": null,
   "metadata": {},
   "outputs": [],
   "source": []
  }
 ],
 "metadata": {
  "kernelspec": {
   "display_name": "Python 3",
   "language": "python",
   "name": "python3"
  },
  "language_info": {
   "codemirror_mode": {
    "name": "ipython",
    "version": 3
   },
   "file_extension": ".py",
   "mimetype": "text/x-python",
   "name": "python",
   "nbconvert_exporter": "python",
   "pygments_lexer": "ipython3",
   "version": "3.8.3"
  }
 },
 "nbformat": 4,
 "nbformat_minor": 4
}
